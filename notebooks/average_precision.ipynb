{
 "cells": [
  {
   "cell_type": "markdown",
   "id": "6ec5c22f3906e008",
   "metadata": {},
   "source": [
    "# Average Precision Evaluation for Qdrant Vector Search\n",
    "\n",
    "## Question\n",
    "\n",
    "In this notebook, we will evaluate the accuracy of the approximate search for our existing collection by calculating the average precision@k and compare the speed of the exact search and the approximate search with a small test dataset.\n",
    "\n",
    "## Theory\n",
    "\n",
    "By default, Qdrant uses the HNSW index for fast Approximate Nearest Neighbor (ANN) searches. This method returns results that are close to the actual nearest neighbors, but it is not exact. It is suitable for large datasets where doing an exact search would be expensive.\n",
    "\n",
    "Exact k-Nearest Neighbor (k-NN) search involves searching the entire dataset to find the true nearest neighbors. While this approach is slower and is not suitable for production use, it provides precise results. The exact k-NN search serves as a baseline for evaluating the accuracy of ANN search, allowing for comparisons of the trade-offs between speed and precision.\n",
    "\n",
    "Precision@k is a metric that measures the quality of the search results and focuses on the relevance of items retrieved during the ANN search, and is calculated as:\n",
    "\n",
    "$$\\text{Precision@k} = \\frac{|\\text{ANN results} \\cap \\text{Exact results}|}{k}$$\n",
    "\n",
    "A value of 1 indicates that all approximate search results are identical to the exact search results. High precision means fewer irrelevant or false-positive items are included. k here corresponds to the number of retrieved items (we use 10). Precision measures the quality of the retrieved results by assessing the proportion of retrieved items that are actually relevant. It answers the question:\n",
    "\n",
    "\"Out of all the items the search retrieved, how many are true nearest neighbors?\"\n"
   ]
  },
  {
   "cell_type": "code",
   "execution_count": 1,
   "id": "ec4dea0073f7de69",
   "metadata": {
    "ExecuteTime": {
     "end_time": "2025-05-25T14:49:30.535520Z",
     "start_time": "2025-05-25T14:49:30.532923Z"
    }
   },
   "outputs": [],
   "source": [
    "# Import necessary libraries\n",
    "import json\n",
    "import time\n",
    "from typing import List, Dict, Set\n",
    "import pandas as pd\n",
    "\n",
    "# Import from qdrant_evaluation module\n",
    "from qdrant_evaluation.client import get_client\n",
    "from qdrant_evaluation.evaluator import (\n",
    "    evaluate_ann,\n",
    "    get_ann_points,\n",
    "    get_knn_points,\n",
    "    precision_k,\n",
    "    results_to_dataframe\n",
    ")\n"
   ]
  },
  {
   "cell_type": "code",
   "execution_count": 2,
   "id": "b7af774e6ba795c",
   "metadata": {
    "ExecuteTime": {
     "end_time": "2025-05-25T14:49:33.774986Z",
     "start_time": "2025-05-25T14:49:33.733443Z"
    }
   },
   "outputs": [],
   "source": [
    "# Define constants\n",
    "QDRANT_HOST = \"localhost\"\n",
    "QDRANT_PORT = 6333\n",
    "COLLECTION_NAME = 'arxiv_papers'\n",
    "k = 10\n",
    "QUERIES_FILE = \"/Users/danielwirth/PycharmProjects/Qdrant Further Steps/docs/01_evaluate_precision/queries_embeddings.json\"\n",
    "\n",
    "# Initialize Qdrant client\n",
    "client = get_client(host=QDRANT_HOST, port=QDRANT_PORT)\n"
   ]
  },
  {
   "cell_type": "markdown",
   "id": "8d13d19bfcbfeb0e",
   "metadata": {},
   "source": [
    "## Load Test Dataset\n",
    "\n",
    "We'll load a test dataset from the ml-arxiv-embeddings.json file, which contains arXiv paper metadata and their corresponding embeddings. Each paper has an ID, title, abstract, and embedding vector. We'll extract the paper IDs and their embeddings to create a dictionary, and limit it to 100 papers for our evaluation.\n"
   ]
  },
  {
   "cell_type": "code",
   "execution_count": 3,
   "id": "732a462356508bae",
   "metadata": {
    "ExecuteTime": {
     "end_time": "2025-05-25T14:54:29.158853Z",
     "start_time": "2025-05-25T14:54:29.156559Z"
    }
   },
   "outputs": [],
   "source": [
    "def get_test_data_set() -> str:\n",
    "    with open(QUERIES_FILE, 'r', encoding='utf-8') as file:\n",
    "        test_dataset = json.load(file)\n",
    "        return test_dataset"
   ]
  },
  {
   "cell_type": "code",
   "execution_count": 4,
   "id": "f59d951683a25762",
   "metadata": {
    "ExecuteTime": {
     "end_time": "2025-05-25T14:54:32.566816Z",
     "start_time": "2025-05-25T14:54:32.530124Z"
    }
   },
   "outputs": [],
   "source": [
    "# Load the embeddings\n",
    "embeddings = get_test_data_set()\n",
    "\n"
   ]
  },
  {
   "cell_type": "markdown",
   "id": "1fa5e0cd3ad5eb97",
   "metadata": {},
   "source": [
    "## Evaluate Precision and Search Performance\n",
    "\n",
    "Now we'll evaluate the precision of the approximate search compared to the exact search, and measure the performance of both search methods.\n"
   ]
  },
  {
   "cell_type": "code",
   "execution_count": 5,
   "id": "c3034427df778d6d",
   "metadata": {
    "ExecuteTime": {
     "end_time": "2025-05-25T14:54:38.861440Z",
     "start_time": "2025-05-25T14:54:38.858929Z"
    }
   },
   "outputs": [],
   "source": [
    "# Function to format results\n",
    "def result_formatting(k, avg_precision, avg_ann_time, avg_knn_time):\n",
    "    \"\"\"Format and print evaluation results\"\"\"\n",
    "    print(f'Average precision@{k}: {avg_precision:.4f}')\n",
    "    print(f'Average ANN query time: {avg_ann_time * 1000:.2f} ms')\n",
    "    print(f'Average exact k-NN query time: {avg_knn_time * 1000:.2f} ms')\n",
    "    print(f'Speedup ratio (k-NN / ANN): {avg_knn_time / avg_ann_time:.2f}x')\n"
   ]
  },
  {
   "cell_type": "code",
   "execution_count": 6,
   "id": "6ee0d2455d63d8e4",
   "metadata": {
    "ExecuteTime": {
     "end_time": "2025-05-25T14:54:46.933229Z",
     "start_time": "2025-05-25T14:54:42.710462Z"
    }
   },
   "outputs": [
    {
     "name": "stdout",
     "output_type": "stream",
     "text": [
      "Average precision@10: 0.8350\n",
      "Average ANN query time: 6.89 ms\n",
      "Average exact k-NN query time: 27.99 ms\n",
      "Speedup ratio (k-NN / ANN): 4.06x\n"
     ]
    }
   ],
   "source": [
    "# Evaluate ANN search performance\n",
    "def evaluate_search_performance():\n",
    "    \"\"\"Evaluate search performance and precision\"\"\"\n",
    "    # Get ANN and KNN results for each embedding\n",
    "    ann_results = [get_ann_points(client, COLLECTION_NAME, vector) for _, vector in embeddings.items()]\n",
    "    knn_results = [get_knn_points(client, COLLECTION_NAME, vector) for _, vector in embeddings.items()]\n",
    "\n",
    "    # Calculate precision and collect execution times\n",
    "    results = []\n",
    "    for (ann_id_list, ann_execution_time), (knn_id_list, knn_execution_time) in zip(ann_results, knn_results):\n",
    "        precision = precision_k(set(ann_id_list), set(knn_id_list))\n",
    "        results.append({\n",
    "            \"precision\": precision,\n",
    "            \"ann_time\": ann_execution_time,\n",
    "            \"knn_time\": knn_execution_time\n",
    "        })\n",
    "\n",
    "    # Calculate averages\n",
    "    avg_precision = sum(r[\"precision\"] for r in results) / len(results)\n",
    "    avg_ann_time = sum(r[\"ann_time\"] for r in results) / len(results)\n",
    "    avg_knn_time = sum(r[\"knn_time\"] for r in results) / len(results)\n",
    "\n",
    "    # Format and print results\n",
    "    result_formatting(k, avg_precision, avg_ann_time, avg_knn_time)\n",
    "\n",
    "    # Return results as a dictionary\n",
    "    return {\n",
    "        \"avg_precision\": avg_precision,\n",
    "        \"avg_ann_time\": avg_ann_time,\n",
    "        \"avg_knn_time\": avg_knn_time,\n",
    "        \"speedup_ratio\": avg_knn_time / avg_ann_time\n",
    "    }\n",
    "\n",
    "# Run the evaluation\n",
    "results = evaluate_search_performance()\n"
   ]
  },
  {
   "cell_type": "markdown",
   "id": "de8c7ca8f72791a8",
   "metadata": {},
   "source": [
    "## Visualize Results\n",
    "\n",
    "Let's create a more visual representation of our results.\n"
   ]
  },
  {
   "cell_type": "code",
   "execution_count": 7,
   "id": "adc9a9d1aed2cfec",
   "metadata": {
    "ExecuteTime": {
     "end_time": "2025-05-25T14:55:01.324573Z",
     "start_time": "2025-05-25T14:55:00.789512Z"
    }
   },
   "outputs": [
    {
     "data": {
      "image/png": "[encoded data removed]",
      "text/plain": [
       "<Figure size 1500x500 with 2 Axes>"
      ]
     },
     "metadata": {},
     "output_type": "display_data"
    }
   ],
   "source": [
    "# Create a DataFrame for better visualization\n",
    "results_df = pd.DataFrame({\n",
    "    \"Metric\": [\"Precision@10\", \"ANN Query Time (ms)\", \"k-NN Query Time (ms)\", \"Speedup Ratio\"],\n",
    "    \"Value\": [\n",
    "        f\"{results['avg_precision']:.4f}\",\n",
    "        f\"{results['avg_ann_time'] * 1000:.2f}\",\n",
    "        f\"{results['avg_knn_time'] * 1000:.2f}\",\n",
    "        f\"{results['speedup_ratio']:.2f}x\"\n",
    "    ]\n",
    "})\n",
    "\n",
    "# Display the results\n",
    "results_df\n",
    "\n",
    "# Create a bar chart for visual comparison\n",
    "import matplotlib.pyplot as plt\n",
    "\n",
    "# Create a figure with two subplots\n",
    "fig, (ax1, ax2) = plt.subplots(1, 2, figsize=(15, 5))\n",
    "\n",
    "# Plot precision\n",
    "ax1.bar(['Precision@10'], [results['avg_precision']], color='blue')\n",
    "ax1.set_ylim(0, 1)\n",
    "ax1.set_title('Average Precision@10')\n",
    "ax1.set_ylabel('Precision')\n",
    "\n",
    "# Plot query times\n",
    "query_times = [results['avg_ann_time'] * 1000, results['avg_knn_time'] * 1000]\n",
    "ax2.bar(['ANN', 'k-NN'], query_times, color=['green', 'orange'])\n",
    "ax2.set_title('Average Query Time (ms)')\n",
    "ax2.set_ylabel('Time (ms)')\n",
    "\n",
    "plt.tight_layout()\n",
    "plt.show()\n"
   ]
  },
  {
   "cell_type": "markdown",
   "id": "630d854196532d5c",
   "metadata": {},
   "source": [
    "## Using the evaluate_ann Function from qdrant_evaluation Module\n",
    "\n",
    "We can also use the `evaluate_ann` function from the qdrant_evaluation module to get similar results.\n"
   ]
  },
  {
   "cell_type": "code",
   "execution_count": 8,
   "id": "b841666b8d164850",
   "metadata": {
    "ExecuteTime": {
     "end_time": "2025-05-25T14:55:19.572880Z",
     "start_time": "2025-05-25T14:55:16.381930Z"
    }
   },
   "outputs": [
    {
     "name": "stdout",
     "output_type": "stream",
     "text": [
      "Average precision@10: 0.8350\n",
      "Average ANN query time: 4.09 ms\n"
     ]
    },
    {
     "data": {
      "text/html": [
       "<div>\n",
       "<style scoped>\n",
       "    .dataframe tbody tr th:only-of-type {\n",
       "        vertical-align: middle;\n",
       "    }\n",
       "\n",
       "    .dataframe tbody tr th {\n",
       "        vertical-align: top;\n",
       "    }\n",
       "\n",
       "    .dataframe thead th {\n",
       "        text-align: right;\n",
       "    }\n",
       "</style>\n",
       "<table border=\"1\" class=\"dataframe\">\n",
       "  <thead>\n",
       "    <tr style=\"text-align: right;\">\n",
       "      <th></th>\n",
       "      <th>Metric</th>\n",
       "      <th>Our Implementation</th>\n",
       "      <th>Module Implementation</th>\n",
       "    </tr>\n",
       "  </thead>\n",
       "  <tbody>\n",
       "    <tr>\n",
       "      <th>0</th>\n",
       "      <td>Precision@10</td>\n",
       "      <td>0.8350</td>\n",
       "      <td>0.8350</td>\n",
       "    </tr>\n",
       "    <tr>\n",
       "      <th>1</th>\n",
       "      <td>ANN Query Time (ms)</td>\n",
       "      <td>6.89</td>\n",
       "      <td>4.09</td>\n",
       "    </tr>\n",
       "  </tbody>\n",
       "</table>\n",
       "</div>"
      ],
      "text/plain": [
       "                Metric Our Implementation Module Implementation\n",
       "0         Precision@10             0.8350                0.8350\n",
       "1  ANN Query Time (ms)               6.89                  4.09"
      ]
     },
     "execution_count": 8,
     "metadata": {},
     "output_type": "execute_result"
    }
   ],
   "source": [
    "# Use the evaluate_ann function from the module\n",
    "module_results = evaluate_ann(client, COLLECTION_NAME, embeddings)\n",
    "\n",
    "# Print the results\n",
    "print(f\"Average precision@{k}: {module_results['avg_precision']:.4f}\")\n",
    "print(f\"Average ANN query time: {module_results['avg_query_time_ms']:.2f} ms\")\n",
    "\n",
    "# Create a DataFrame for the module results\n",
    "module_df = pd.DataFrame({\n",
    "    \"Metric\": [\"Precision@10\", \"ANN Query Time (ms)\"],\n",
    "    \"Value\": [\n",
    "        f\"{module_results['avg_precision']:.4f}\",\n",
    "        f\"{module_results['avg_query_time_ms']:.2f}\"\n",
    "    ]\n",
    "})\n",
    "\n",
    "# Display the DataFrame\n",
    "module_df\n",
    "\n",
    "# Compare our implementation with the module implementation\n",
    "comparison_df = pd.DataFrame({\n",
    "    \"Metric\": [\"Precision@10\", \"ANN Query Time (ms)\"],\n",
    "    \"Our Implementation\": [\n",
    "        f\"{results['avg_precision']:.4f}\",\n",
    "        f\"{results['avg_ann_time'] * 1000:.2f}\"\n",
    "    ],\n",
    "    \"Module Implementation\": [\n",
    "        f\"{module_results['avg_precision']:.4f}\",\n",
    "        f\"{module_results['avg_query_time_ms']:.2f}\"\n",
    "    ]\n",
    "})\n",
    "\n",
    "# Display the comparison\n",
    "comparison_df\n"
   ]
  },
  {
   "cell_type": "markdown",
   "id": "6a0f53e92d3607d8",
   "metadata": {},
   "source": [
    "## Conclusion\n",
    "\n",
    "In this notebook, we evaluated the precision and performance of Qdrant's approximate nearest neighbor search compared to exact k-NN search. The results show:\n",
    "\n",
    "1. The average precision@10 indicates how many of the approximate search results match the exact search results.\n",
    "2. The average query times show the performance difference between approximate and exact search.\n",
    "3. The speedup ratio demonstrates the performance advantage of using approximate search.\n",
    "\n",
    "These metrics help us understand the trade-off between search accuracy and performance in vector databases like Qdrant.\n"
   ]
  }
 ],
 "metadata": {
  "kernelspec": {
   "display_name": "Python 3 (ipykernel)",
   "language": "python",
   "name": "python3"
  },
  "language_info": {
   "codemirror_mode": {
    "name": "ipython",
    "version": 3
   },
   "file_extension": ".py",
   "mimetype": "text/x-python",
   "name": "python",
   "nbconvert_exporter": "python",
   "pygments_lexer": "ipython3",
   "version": "3.12.7"
  }
 },
 "nbformat": 4,
 "nbformat_minor": 5
}
