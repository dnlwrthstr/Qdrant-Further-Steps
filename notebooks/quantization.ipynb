{
 "cells": [
  {
   "cell_type": "markdown",
   "id": "dd09d58b170ccc98",
   "metadata": {},
   "source": [
    "# Quantization\n",
    "\n",
    "Before starting this stage, adjust and run the following snippet to reset the HNSW config parameters to their default values (since the quantization will interact with the HNSW config parameters and it will affect the speed and the search accuracy):\n",
    "\n",
    "```python\n",
    "client.update_collection(\n",
    "     collection_name=COLLECTION_NAME,\n",
    "     hnsw_config=models.HnswConfigDiff(\n",
    "        m=16,\n",
    "        ef_construct=100,\n",
    "     )\n",
    ")\n",
    "\n",
    "while True:\n",
    "    collection_info = client.get_collection(collection_name=COLLECTION_NAME)\n",
    "    if collection_info.status == models.CollectionStatus.GREEN:\n",
    "        break\n",
    "```\n"
   ]
  },
  {
   "cell_type": "markdown",
   "id": "ec6dbb18b3c33ef4",
   "metadata": {},
   "source": [
    "## Theory\n",
    "\n",
    "Quantization is a way to reduce the precision of high-dimensional vectors to make the database more efficient in terms of storage and inference speed. It involves converting floating-point numbers to lower-precision types and trying to compress the vectors without loosing too much accuracy.\n",
    "\n",
    "Qdrant supports 3 types of quantization out of the box (meaning that you don't have to preprocess the embeddings separately, and can quantize them inside of Qdrant itself, and also store the quantized vectors alongside the original ones without much configuration). Here are their brief descriptions:\n",
    "\n",
    "- **Scalar quantization** reduces the precision of vector elements to a set of predefined values. It's also known as uniform quantization and it maps floating-point numbers to integers like 8-bit. This type is perhaps the most universal one in terms of retaining high accuracy, but it only can speed up the search up to 2 times and reduce the storage by a factor of 4.\n",
    "\n",
    "- **Product quantization** divides a high-dimensional vector into multiple sub-vectors and quantizes each sub-vector independently. This is the most compressing type out of 3, but it might drop the accuracy significantly. You can read more on the inner working of product quantization in the Faiss book at Pinecone.\n",
    "\n",
    "- **Binary quantization** is a type of quantization where each vector component is represented by just 1 bit, either 0 or 1. This is more extreme than other forms of quantization, which might use 4 or 8 bits. Reducing each number to a single bit drastically reduces storage needs and speeds up the queries, but also induces a significant loss in accuracy because so much information is lost. Binary quantization does not work universally well with any embedding model (although it does seem to work with the text-embedding-ada-002, which we are using, and Cohere embeddings), so binary quantization should be applied carefully and mostly to the tested models that can retain accuracy.\n"
   ]
  },
  {
   "cell_type": "markdown",
   "id": "91ccf7c00a359985",
   "metadata": {},
   "source": [
    "## Objectives\n",
    "\n",
    "In this stage, you will also modify the k-NN vs ANN accuracy and speed function from the previous stages. Here, we ask you to update the collection with a quantization config and scalar quantization. Here is the code you can use:\n"
   ]
  },
  {
   "cell_type": "code",
   "execution_count": 1,
   "id": "36d671f4c6151d59",
   "metadata": {},
   "outputs": [],
   "source": [
    "# Import necessary libraries\n",
    "import matplotlib.pyplot as plt\n",
    "import pandas as pd\n",
    "import time\n",
    "from typing import List, Dict\n",
    "\n",
    "# Import functions from the qdrant_evaluation package\n",
    "from qdrant_evaluation import (\n",
    "    get_client,\n",
    "    load_test_dataset,\n",
    "    evaluate_ann,\n",
    "    results_to_dataframe,\n",
    "    update_collection_config,\n",
    "    evaluate_collection_with_config,\n",
    "    evaluate_with_quantization\n",
    ")\n",
    "from qdrant_client import QdrantClient, models\n",
    "\n",
    "# Define constants\n",
    "QDRANT_HOST = \"localhost\"\n",
    "QDRANT_PORT = 6333\n",
    "COLLECTION_NAME = 'arxiv_papers'\n",
    "k = 10\n",
    "\n",
    "# Initialize Qdrant client\n",
    "client = get_client(host=QDRANT_HOST, port=QDRANT_PORT)\n"
   ]
  },
  {
   "cell_type": "code",
   "execution_count": 2,
   "id": "4fcae4f08694f88a",
   "metadata": {},
   "outputs": [
    {
     "name": "stdout",
     "output_type": "stream",
     "text": [
      "Collection is ready with default HNSW parameters\n"
     ]
    }
   ],
   "source": [
    "# Reset HNSW config parameters to their default values\n",
    "client.update_collection(\n",
    "     collection_name=COLLECTION_NAME,\n",
    "     hnsw_config=models.HnswConfigDiff(\n",
    "        m=16,\n",
    "        ef_construct=100,\n",
    "     )\n",
    ")\n",
    "\n",
    "while True:\n",
    "    collection_info = client.get_collection(collection_name=COLLECTION_NAME)\n",
    "    if collection_info.status == models.CollectionStatus.GREEN:\n",
    "        break\n",
    "    time.sleep(10)\n",
    "    print(\"Waiting for collection to be ready...\")\n",
    "\n",
    "print(\"Collection is ready with default HNSW parameters\")\n"
   ]
  },
  {
   "cell_type": "code",
   "execution_count": 3,
   "id": "c9a60d6e81b0234a",
   "metadata": {},
   "outputs": [
    {
     "name": "stdout",
     "output_type": "stream",
     "text": [
      "Collection is ready with scalar quantization applied\n"
     ]
    }
   ],
   "source": [
    "# Update collection with scalar quantization\n",
    "client.update_collection(\n",
    "    collection_name=COLLECTION_NAME,\n",
    "    optimizer_config=models.OptimizersConfigDiff(),\n",
    "    quantization_config=models.ScalarQuantization(\n",
    "        scalar=models.ScalarQuantizationConfig(\n",
    "            type=models.ScalarType.INT8,\n",
    "            quantile=0.99,\n",
    "            always_ram=False,\n",
    "        ),\n",
    "    ),\n",
    ")\n",
    "\n",
    "while True:\n",
    "    collection_info = client.get_collection(collection_name=COLLECTION_NAME)\n",
    "    if collection_info.status == models.CollectionStatus.GREEN:\n",
    "        break\n",
    "    time.sleep(10)\n",
    "    print(\"Waiting for collection to be ready after quantization...\")\n",
    "\n",
    "print(\"Collection is ready with scalar quantization applied\")\n"
   ]
  },
  {
   "cell_type": "markdown",
   "id": "617e8e514c59fa5e",
   "metadata": {},
   "source": [
    "Once you quantize the embeddings, your searches will be in the quantized embeddings by default. In case you wish to disable this behavior, use the following code (this snippet is relevant for the kNN quantization - since we want to retrieve the ground truth values and compare them to the results of the quantized search):\n",
    "\n",
    "```python\n",
    "result = client.query_points(\n",
    "    collection_name=COLLECTION_NAME,\n",
    "    query=query_vector,\n",
    "    limit=k,\n",
    "    search_params=models.SearchParams(\n",
    "        quantization=models.QuantizationSearchParams(ignore=True) # ignore is False by default\n",
    "    ),\n",
    ").points\n",
    "```\n",
    "\n",
    "For the ANN search, you can use the following search_params:\n",
    "\n",
    "```python\n",
    "search_params = models.SearchParams(\n",
    "    quantization=models.QuantizationSearchParams(\n",
    "        rescore=True,\n",
    "        oversampling=2.0,\n",
    "    )\n",
    ")\n",
    "```\n"
   ]
  },
  {
   "cell_type": "code",
   "execution_count": 4,
   "id": "d001ce85b8670341",
   "metadata": {},
   "outputs": [
    {
     "name": "stdout",
     "output_type": "stream",
     "text": [
      "Loaded 100 embeddings from test dataset\n"
     ]
    }
   ],
   "source": [
    "# Load test dataset\n",
    "test_dataset = load_test_dataset(\"/Users/danielwirth/PycharmProjects/Qdrant Further Steps/docs/01_evaluate_precision/queries_embeddings.json\")\n",
    "print(f\"Loaded {len(test_dataset)} embeddings from test dataset\")\n"
   ]
  },
  {
   "cell_type": "code",
   "execution_count": 5,
   "id": "6e613f3c1d054b73",
   "metadata": {},
   "outputs": [],
   "source": [
    "# Using the evaluate_with_quantization function from the qdrant_evaluation module\n"
   ]
  },
  {
   "cell_type": "code",
   "execution_count": 6,
   "id": "2f70522872234846",
   "metadata": {},
   "outputs": [
    {
     "data": {
      "text/html": [
       "<style type=\"text/css\">\n",
       "</style>\n",
       "<table id=\"T_fcdb5\">\n",
       "  <thead>\n",
       "    <tr>\n",
       "      <th class=\"blank level0\" >&nbsp;</th>\n",
       "      <th id=\"T_fcdb5_level0_col0\" class=\"col_heading level0 col0\" >rescore</th>\n",
       "      <th id=\"T_fcdb5_level0_col1\" class=\"col_heading level0 col1\" >avg_precision</th>\n",
       "      <th id=\"T_fcdb5_level0_col2\" class=\"col_heading level0 col2\" >avg_ground_truth_time_ms</th>\n",
       "      <th id=\"T_fcdb5_level0_col3\" class=\"col_heading level0 col3\" >avg_quantized_time_ms</th>\n",
       "      <th id=\"T_fcdb5_level0_col4\" class=\"col_heading level0 col4\" >speedup_factor</th>\n",
       "    </tr>\n",
       "  </thead>\n",
       "  <tbody>\n",
       "    <tr>\n",
       "      <th id=\"T_fcdb5_level0_row0\" class=\"row_heading level0 row0\" >0</th>\n",
       "      <td id=\"T_fcdb5_row0_col0\" class=\"data row0 col0\" >True</td>\n",
       "      <td id=\"T_fcdb5_row0_col1\" class=\"data row0 col1\" >1.0000</td>\n",
       "      <td id=\"T_fcdb5_row0_col2\" class=\"data row0 col2\" >18.17</td>\n",
       "      <td id=\"T_fcdb5_row0_col3\" class=\"data row0 col3\" >4.93</td>\n",
       "      <td id=\"T_fcdb5_row0_col4\" class=\"data row0 col4\" >3.69</td>\n",
       "    </tr>\n",
       "    <tr>\n",
       "      <th id=\"T_fcdb5_level0_row1\" class=\"row_heading level0 row1\" >1</th>\n",
       "      <td id=\"T_fcdb5_row1_col0\" class=\"data row1 col0\" >False</td>\n",
       "      <td id=\"T_fcdb5_row1_col1\" class=\"data row1 col1\" >0.8350</td>\n",
       "      <td id=\"T_fcdb5_row1_col2\" class=\"data row1 col2\" >6.01</td>\n",
       "      <td id=\"T_fcdb5_row1_col3\" class=\"data row1 col3\" >7.00</td>\n",
       "      <td id=\"T_fcdb5_row1_col4\" class=\"data row1 col4\" >0.86</td>\n",
       "    </tr>\n",
       "  </tbody>\n",
       "</table>\n"
      ],
      "text/plain": [
       "<pandas.io.formats.style.Styler at 0x13a8354f0>"
      ]
     },
     "metadata": {},
     "output_type": "display_data"
    }
   ],
   "source": [
    "# Evaluate with and without rescoring\n",
    "results = []\n",
    "results.append(evaluate_with_quantization(client=client, collection_name=COLLECTION_NAME, embeddings=test_dataset, rescore=True))\n",
    "results.append(evaluate_with_quantization(client=client, collection_name=COLLECTION_NAME, embeddings=test_dataset, rescore=False))\n",
    "\n",
    "# Convert results to DataFrame\n",
    "results_df = pd.DataFrame(results)\n",
    "\n",
    "# Display the results\n",
    "styled_df = results_df.style.format({\n",
    "    'avg_precision': '{:.4f}',\n",
    "    'avg_ground_truth_time_ms': '{:.2f}',\n",
    "    'avg_quantized_time_ms': '{:.2f}',\n",
    "    'speedup_factor': '{:.2f}'\n",
    "})\n",
    "display(styled_df)\n"
   ]
  },
  {
   "cell_type": "markdown",
   "id": "d9ba0ed1e72639f4",
   "metadata": {},
   "source": [
    "## Visualization\n"
   ]
  },
  {
   "cell_type": "code",
   "execution_count": 7,
   "id": "c4fda54275046067",
   "metadata": {},
   "outputs": [
    {
     "data": {
      "image/png": "[encoded data removed]",
      "text/plain": [
       "<Figure size 1200x600 with 2 Axes>"
      ]
     },
     "metadata": {},
     "output_type": "display_data"
    }
   ],
   "source": [
    "# Visualize the results\n",
    "plt.figure(figsize=(12, 6))\n",
    "\n",
    "# Create a bar chart for precision\n",
    "plt.subplot(1, 2, 1)\n",
    "plt.bar(['With Rescoring', 'Without Rescoring'], \n",
    "        [results[0]['avg_precision'], results[1]['avg_precision']], \n",
    "        color=['skyblue', 'salmon'])\n",
    "plt.ylim(0, 1)\n",
    "plt.title('Effect of Rescoring on Precision')\n",
    "plt.ylabel('Average Precision')\n",
    "plt.grid(True, alpha=0.3)\n",
    "\n",
    "# Create a bar chart for query time\n",
    "plt.subplot(1, 2, 2)\n",
    "plt.bar(['Ground Truth', 'With Rescoring', 'Without Rescoring'], \n",
    "        [results[0]['avg_ground_truth_time_ms'], \n",
    "         results[0]['avg_quantized_time_ms'], \n",
    "         results[1]['avg_quantized_time_ms']], \n",
    "        color=['lightgray', 'skyblue', 'salmon'])\n",
    "plt.title('Query Time Comparison')\n",
    "plt.ylabel('Average Query Time (ms)')\n",
    "plt.grid(True, alpha=0.3)\n",
    "\n",
    "plt.tight_layout()\n",
    "plt.show()\n"
   ]
  },
  {
   "cell_type": "markdown",
   "id": "deac59213749e41",
   "metadata": {},
   "source": [
    "## Results Analysis\n",
    "\n",
    "Run the function two times: first, with rescore = True, and then, with rescore = False. Observe the results and choose the option that reflects the obtained values.\n",
    "\n",
    "### Select one option from the list\n",
    "\n",
    "1. With rescoring, the accuracy significantly drops (by more than 0.1), the lack of rescoring makes the accuracy equal to 1, and the queries are much faster than without quantization\n",
    "\n",
    "2. Without rescoring, the accuracy significantly drops (by more than 0.1), rescoring makes the accuracy equal to 1, and the queries are much faster than without quantization ✅ Correct\n",
    "\n",
    "3. Rescoring barely affects the accuracy, but with rescore = True, the query speed is significantly lower than with rescore = False\n"
   ]
  },
  {
   "cell_type": "code",
   "execution_count": null,
   "id": "4bec74f3-972e-4c8b-9d7a-79ffc39ef390",
   "metadata": {},
   "outputs": [],
   "source": []
  }
 ],
 "metadata": {
  "kernelspec": {
   "display_name": "Python 3 (ipykernel)",
   "language": "python",
   "name": "python3"
  },
  "language_info": {
   "codemirror_mode": {
    "name": "ipython",
    "version": 3
   },
   "file_extension": ".py",
   "mimetype": "text/x-python",
   "name": "python",
   "nbconvert_exporter": "python",
   "pygments_lexer": "ipython3",
   "version": "3.12.7"
  }
 },
 "nbformat": 4,
 "nbformat_minor": 5
}
