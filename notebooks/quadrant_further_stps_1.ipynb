{
 "cells": [
  {
   "cell_type": "code",
   "id": "initial_id",
   "metadata": {
    "collapsed": true,
    "ExecuteTime": {
     "end_time": "2025-05-09T10:15:29.241112Z",
     "start_time": "2025-05-09T10:15:29.238749Z"
    }
   },
   "source": [
    "from qdrant_client import QdrantClient, models\n",
    "from openai import OpenAI\n",
    "import os\n",
    "from dotenv import load_dotenv\n",
    "from typing import Union, Set, List, Dict\n",
    "import json\n",
    "import time"
   ],
   "outputs": [],
   "execution_count": 151
  },
  {
   "metadata": {
    "ExecuteTime": {
     "end_time": "2025-05-05T21:46:34.612703Z",
     "start_time": "2025-05-05T21:46:34.610240Z"
    }
   },
   "cell_type": "code",
   "source": [
    "QDRANT_HOST = \"localhost\"\n",
    "QDRANT_PORT = 6333\n",
    "COLLECTION_NAME = 'arxiv_papers'\n",
    "k = 10\n",
    "QUERIES_FILE = \"queries_embeddings.json\""
   ],
   "id": "aa2227dafc545bd9",
   "outputs": [],
   "execution_count": 56
  },
  {
   "metadata": {
    "ExecuteTime": {
     "end_time": "2025-05-05T21:14:04.864034Z",
     "start_time": "2025-05-05T21:14:04.836538Z"
    }
   },
   "cell_type": "code",
   "source": "client = QdrantClient(host=QDRANT_HOST, port=QDRANT_PORT)",
   "id": "a737b8357179fd8c",
   "outputs": [],
   "execution_count": 38
  },
  {
   "metadata": {
    "ExecuteTime": {
     "end_time": "2025-05-05T21:14:06.226988Z",
     "start_time": "2025-05-05T21:14:06.223554Z"
    }
   },
   "cell_type": "code",
   "source": [
    "# Define paths for configuration files\n",
    "env_path = os.path.expanduser(\"./.env\")\n",
    "\n",
    "# Load environment variables from .env file\n",
    "load_dotenv(dotenv_path=env_path, override=True)\n",
    "\n",
    "# Read environment variables\n",
    "OPENAI_API_KEY: str | None = os.environ.get(\"OPENAI_API_KEY\")\n",
    "HF_API_KEX: str | None = os.environ.get(\"HF_API_KEY\")\n",
    "BASE_URL: str | None = os.environ.get(\"BASE_URL\")"
   ],
   "id": "55dde16542826e80",
   "outputs": [],
   "execution_count": 39
  },
  {
   "metadata": {
    "ExecuteTime": {
     "end_time": "2025-05-05T21:14:10.573157Z",
     "start_time": "2025-05-05T21:14:10.570100Z"
    }
   },
   "cell_type": "code",
   "source": [
    "def get_embedding(text: str) -> Union[List[float], None]:\n",
    "    api_key = os.environ.get(\"OPENAI_API_KEY\")\n",
    "    client_qa = OpenAI(api_key=api_key)\n",
    "    text = text.replace(\"\\n\", \" \")\n",
    "    try:\n",
    "        response = client_qa.embeddings.create(input=[text], model=\"text-embedding-ada-002\")\n",
    "        embedding = response.data[0].embedding\n",
    "        return embedding\n",
    "    except Exception as e:\n",
    "        print(f\"An unexpected error occurred: {e}\")\n",
    "        return None"
   ],
   "id": "d327d1298dd60d4e",
   "outputs": [],
   "execution_count": 40
  },
  {
   "metadata": {
    "ExecuteTime": {
     "end_time": "2025-05-05T21:42:01.171496Z",
     "start_time": "2025-05-05T21:42:01.169398Z"
    }
   },
   "cell_type": "code",
   "source": [
    "def precision_k(ann_results: Set, exact_results: Set):\n",
    "    return len(ann_results.intersection(exact_results)) / k"
   ],
   "id": "9b80a650de1fcddf",
   "outputs": [],
   "execution_count": 48
  },
  {
   "metadata": {
    "ExecuteTime": {
     "end_time": "2025-05-08T20:07:06.090932Z",
     "start_time": "2025-05-08T20:07:06.087043Z"
    }
   },
   "cell_type": "code",
   "source": [
    "def get_ann_points(embedding: List):\n",
    "    start_time_ann = time.time()\n",
    "    ann_result = client.query_points(\n",
    "        collection_name=COLLECTION_NAME,\n",
    "        query=embedding,\n",
    "        limit=k\n",
    "    ).points\n",
    "    ann_time = time.time() - start_time_ann\n",
    "    ids = [res.payload['id'] for res in ann_result]\n",
    "    return ids, ann_time"
   ],
   "id": "922e85a343f82788",
   "outputs": [],
   "execution_count": 59
  },
  {
   "metadata": {
    "ExecuteTime": {
     "end_time": "2025-05-09T08:06:56.569283Z",
     "start_time": "2025-05-09T08:06:56.566637Z"
    }
   },
   "cell_type": "code",
   "source": [
    "def get_hnsw_points(embedding: List, hnsw_ef: int, k: int = 10):\n",
    "    start_time_hnsw = time.time()\n",
    "    hnsw_result = client.query_points(\n",
    "        collection_name=COLLECTION_NAME,\n",
    "        query=embedding,\n",
    "        limit=k,\n",
    "        search_params=models.SearchParams(hnsw_ef=hnsw_ef)\n",
    "    ).points\n",
    "    hnsw_time = time.time() - start_time_hnsw\n",
    "    ids = [res.payload['id'] for res in hnsw_result]\n",
    "    return ids, hnsw_time"
   ],
   "id": "913ffed3612376c7",
   "outputs": [],
   "execution_count": 127
  },
  {
   "metadata": {
    "ExecuteTime": {
     "end_time": "2025-05-09T09:13:30.635311Z",
     "start_time": "2025-05-09T09:13:30.632838Z"
    }
   },
   "cell_type": "code",
   "source": [
    "def get_knn_points(embedding: List):\n",
    "    start_time_knn = time.time()\n",
    "    knn_result = client.query_points(\n",
    "        collection_name=COLLECTION_NAME,\n",
    "        query=embedding,\n",
    "        limit=k,\n",
    "        search_params=models.SearchParams(exact=True),\n",
    "    ).points\n",
    "    knn_time = time.time() - start_time_knn\n",
    "    ids = [res.payload['id'] for res in knn_result]\n",
    "    return ids, knn_time"
   ],
   "id": "ef124f097123fd33",
   "outputs": [],
   "execution_count": 133
  },
  {
   "metadata": {
    "ExecuteTime": {
     "end_time": "2025-05-05T21:42:06.064011Z",
     "start_time": "2025-05-05T21:42:06.061240Z"
    }
   },
   "cell_type": "code",
   "source": [
    "def result_formatting(k, avg_precision, avg_ann_time, avg_knn_time):\n",
    "    print(f'Average precision@{k}: {avg_precision:.4f}')\n",
    "    print(f'Average ANN query time: {avg_ann_time * 1000:.2f} ms')\n",
    "    print(f'Average exact k-NN query time: {avg_knn_time * 1000:.2f} ms')"
   ],
   "id": "6cb4c997565c98e4",
   "outputs": [],
   "execution_count": 50
  },
  {
   "metadata": {
    "ExecuteTime": {
     "end_time": "2025-05-05T21:42:11.714107Z",
     "start_time": "2025-05-05T21:14:19.439904Z"
    }
   },
   "cell_type": "code",
   "source": [
    "def get_test_data_set() -> str:\n",
    "    with open(\"queries_embeddings.json\", 'r', encoding='utf-8') as file:\n",
    "        test_dataset = json.load(file)\n",
    "        return test_dataset"
   ],
   "id": "2f1e49ed9db664d1",
   "outputs": [],
   "execution_count": 44
  },
  {
   "metadata": {
    "ExecuteTime": {
     "end_time": "2025-05-05T21:56:38.915029Z",
     "start_time": "2025-05-05T21:56:35.673521Z"
    }
   },
   "cell_type": "code",
   "source": [
    "embeddings = get_test_data_set()\n",
    "\n",
    "ann_results = [get_ann_points(vector) for _, vector in embeddings.items()]\n",
    "knn_results = [get_knn_points(vector) for _, vector in embeddings.items()]\n",
    "\n",
    "results = [(precision_k(set(ann_id_list), set(knn_id_list)), knn_execution_time / ann_execution_time)\n",
    "           for (ann_id_list, ann_execution_time), (knn_id_list, knn_execution_time)\n",
    "           in zip(ann_results, knn_results)]\n",
    "\n",
    "precisions, times = zip(*results)\n",
    "avg_precision = sum(precisions) / len(precisions)\n",
    "avg_ratio = sum(times) / len(times)\n",
    "\n",
    "print(f\"Avg Precision@k: {avg_precision:.4f}\")\n",
    "print(f\"Avg execution time ratio (knn vs. ann): {avg_ratio:.4f}\")"
   ],
   "id": "b81e43da95ec5534",
   "outputs": [
    {
     "name": "stdout",
     "output_type": "stream",
     "text": [
      "Avg Precision@k: 0.9980\n",
      "Avg execution time ratio (knn vs. ann): 6.0790\n"
     ]
    }
   ],
   "execution_count": 58
  },
  {
   "metadata": {
    "ExecuteTime": {
     "end_time": "2025-05-09T10:39:36.276009Z",
     "start_time": "2025-05-09T10:39:36.272227Z"
    }
   },
   "cell_type": "code",
   "source": [
    "def evaluate_hnsw_ef():\n",
    "    knn_results = [get_knn_points(vector) for _, vector in embeddings.items()]\n",
    "\n",
    "    hnsw_ef_values = [10, 20, 50, 100, 200]\n",
    "    hnsw_ef_values = [10]\n",
    "\n",
    "    results_list = []\n",
    "    for hnsw_ef in hnsw_ef_values:\n",
    "        hnsw_results = [get_hnsw_points(vector, hnsw_ef) for _, vector in embeddings.items()]\n",
    "\n",
    "        result_hnsw = [\n",
    "            (precision_k(set(hnsw_id_list), set(knn_id_list)), hnsw_execution_time)\n",
    "            for (hnsw_id_list, hnsw_execution_time), (knn_id_list, knn_execution_time)\n",
    "            in zip(hnsw_results, knn_results)]\n",
    "\n",
    "        prec, hnsw_exe_time = zip(*result_hnsw)\n",
    "        avg_precision = sum(prec) / len(prec)\n",
    "        avg_query_time_ms = sum(hnsw_exe_time) / len(hnsw_exe_time) * 1000\n",
    "\n",
    "        results_list.append({\n",
    "            \"hnsw_ef\": hnsw_ef,\n",
    "            \"avg_precision\": avg_precision,\n",
    "            \"avg_query_time_ms\": avg_query_time_ms\n",
    "        })\n",
    "\n",
    "    return results_list"
   ],
   "id": "79138f11cf12834d",
   "outputs": [],
   "execution_count": 162
  },
  {
   "metadata": {
    "ExecuteTime": {
     "end_time": "2025-05-09T10:57:47.198181Z",
     "start_time": "2025-05-09T10:57:47.195177Z"
    }
   },
   "cell_type": "code",
   "source": [
    "def evaluate_ann():\n",
    "    ann_results = [get_ann_points(vector) for _, vector in embeddings.items()]\n",
    "    knn_results = [get_knn_points(vector) for _, vector in embeddings.items()]\n",
    "\n",
    "    results = [(precision_k(set(ann_id_list), set(knn_id_list)), ann_execution_time)\n",
    "               for (ann_id_list, ann_execution_time), (knn_id_list, knn_execution_time)\n",
    "               in zip(ann_results, knn_results)]\n",
    "\n",
    "    precisions, exec_time = zip(*results)\n",
    "    avg_precision = sum(precisions) / len(precisions)\n",
    "    avg_query_time_ms = sum(exec_time) / len(exec_time) * 1000\n",
    "\n",
    "    res = {\"avg_precision\": avg_precision,\n",
    "           \"avg_query_time_ms\": avg_query_time_ms\n",
    "           }\n",
    "\n",
    "    return res"
   ],
   "id": "7f25913cc7853488",
   "outputs": [],
   "execution_count": 181
  },
  {
   "metadata": {
    "ExecuteTime": {
     "end_time": "2025-05-09T10:51:06.159387Z",
     "start_time": "2025-05-09T10:51:03.020942Z"
    }
   },
   "cell_type": "code",
   "source": "evaluation = evaluate_hnsw_ef()",
   "id": "ad648fd09ee322ca",
   "outputs": [],
   "execution_count": 174
  },
  {
   "metadata": {
    "ExecuteTime": {
     "end_time": "2025-05-08T21:24:05.334174Z",
     "start_time": "2025-05-08T21:24:05.319348Z"
    }
   },
   "cell_type": "code",
   "source": [
    "client.update_collection(\n",
    "    collection_name=COLLECTION_NAME,\n",
    "    hnsw_config=models.HnswConfigDiff(m=16, ef_construct=32)\n",
    ")"
   ],
   "id": "8ca339d7bcb1f6af",
   "outputs": [
    {
     "data": {
      "text/plain": [
       "True"
      ]
     },
     "execution_count": 95,
     "metadata": {},
     "output_type": "execute_result"
    }
   ],
   "execution_count": 95
  },
  {
   "metadata": {
    "ExecuteTime": {
     "end_time": "2025-05-08T21:32:08.809393Z",
     "start_time": "2025-05-08T21:32:08.792955Z"
    }
   },
   "cell_type": "code",
   "source": [
    "client.update_collection(\n",
    "    collection_name=COLLECTION_NAME,\n",
    "    hnsw_config=models.HnswConfigDiff(m=160, ef_construct=500)\n",
    ")"
   ],
   "id": "35c6ac8fbd65afb1",
   "outputs": [
    {
     "data": {
      "text/plain": [
       "True"
      ]
     },
     "execution_count": 101,
     "metadata": {},
     "output_type": "execute_result"
    }
   ],
   "execution_count": 101
  },
  {
   "metadata": {
    "ExecuteTime": {
     "end_time": "2025-05-09T10:57:58.381638Z",
     "start_time": "2025-05-09T10:57:55.106386Z"
    }
   },
   "cell_type": "code",
   "source": [
    "COLLECTION_NAME = 'arxiv_papers_8_100'\n",
    "evaluation_8_100 = evaluate_ann()"
   ],
   "id": "a30c4f901c81dfe1",
   "outputs": [],
   "execution_count": 182
  },
  {
   "metadata": {
    "ExecuteTime": {
     "end_time": "2025-05-09T10:58:01.268522Z",
     "start_time": "2025-05-09T10:58:01.266202Z"
    }
   },
   "cell_type": "code",
   "source": "evaluation_8_100",
   "id": "1cd3638d2ca79c1c",
   "outputs": [
    {
     "data": {
      "text/plain": [
       "{'avg_precision': 0.997, 'avg_query_time_ms': 4.1156005859375}"
      ]
     },
     "execution_count": 183,
     "metadata": {},
     "output_type": "execute_result"
    }
   ],
   "execution_count": 183
  },
  {
   "metadata": {
    "ExecuteTime": {
     "end_time": "2025-05-09T10:58:06.637122Z",
     "start_time": "2025-05-09T10:58:03.565117Z"
    }
   },
   "cell_type": "code",
   "source": [
    "COLLECTION_NAME = 'arxiv_papers_8_50'\n",
    "evaluation_8_50 = evaluate_ann()"
   ],
   "id": "32d724a83659455",
   "outputs": [],
   "execution_count": 184
  },
  {
   "metadata": {
    "ExecuteTime": {
     "end_time": "2025-05-09T10:58:09.087071Z",
     "start_time": "2025-05-09T10:58:09.084624Z"
    }
   },
   "cell_type": "code",
   "source": "evaluation_8_50",
   "id": "8ebe1499f2c916e6",
   "outputs": [
    {
     "data": {
      "text/plain": [
       "{'avg_precision': 0.99, 'avg_query_time_ms': 3.6455631256103516}"
      ]
     },
     "execution_count": 185,
     "metadata": {},
     "output_type": "execute_result"
    }
   ],
   "execution_count": 185
  },
  {
   "metadata": {
    "ExecuteTime": {
     "end_time": "2025-05-09T10:58:14.626247Z",
     "start_time": "2025-05-09T10:58:11.443841Z"
    }
   },
   "cell_type": "code",
   "source": [
    "COLLECTION_NAME = 'arxiv_papers_16_32'\n",
    "evaluation_16_32 = evaluate_ann()"
   ],
   "id": "e56841cd51185c2f",
   "outputs": [],
   "execution_count": 186
  },
  {
   "metadata": {
    "ExecuteTime": {
     "end_time": "2025-05-09T10:58:15.962373Z",
     "start_time": "2025-05-09T10:58:15.959332Z"
    }
   },
   "cell_type": "code",
   "source": "evaluation_16_32",
   "id": "d266ea9632bd50ca",
   "outputs": [
    {
     "data": {
      "text/plain": [
       "{'avg_precision': 0.993, 'avg_query_time_ms': 3.522627353668213}"
      ]
     },
     "execution_count": 187,
     "metadata": {},
     "output_type": "execute_result"
    }
   ],
   "execution_count": 187
  },
  {
   "metadata": {
    "ExecuteTime": {
     "end_time": "2025-05-09T10:58:21.555554Z",
     "start_time": "2025-05-09T10:58:18.388930Z"
    }
   },
   "cell_type": "code",
   "source": [
    "COLLECTION_NAME = 'arxiv_papers_16_50'\n",
    "evaluation_16_50 = evaluate_ann()"
   ],
   "id": "9c0f66115ca98810",
   "outputs": [],
   "execution_count": 188
  },
  {
   "metadata": {
    "ExecuteTime": {
     "end_time": "2025-05-09T10:58:23.443476Z",
     "start_time": "2025-05-09T10:58:23.440978Z"
    }
   },
   "cell_type": "code",
   "source": "evaluation_16_50",
   "id": "8db60917dfa25d7d",
   "outputs": [
    {
     "data": {
      "text/plain": [
       "{'avg_precision': 0.996, 'avg_query_time_ms': 3.9110779762268066}"
      ]
     },
     "execution_count": 189,
     "metadata": {},
     "output_type": "execute_result"
    }
   ],
   "execution_count": 189
  },
  {
   "metadata": {
    "ExecuteTime": {
     "end_time": "2025-05-09T10:15:40.680990Z",
     "start_time": "2025-05-09T10:15:40.678627Z"
    }
   },
   "cell_type": "code",
   "source": [
    "def compute_avg_metrics(data: List[Dict]) -> Dict[str, float]:\n",
    "    \"\"\"\n",
    "    Computes the average of all keys starting with 'avg' across a list of dictionaries.\n",
    "\n",
    "    :param data: List of dictionaries with metrics.\n",
    "    :return: Dictionary with average values for 'avg*' keys.\n",
    "    \"\"\"\n",
    "    if not data:\n",
    "        return {}\n",
    "\n",
    "    totals = {}\n",
    "    count = len(data)\n",
    "\n",
    "    for entry in data:\n",
    "        for key, value in entry.items():\n",
    "            if key.startswith('avg') and isinstance(value, (int, float)):\n",
    "                totals[key] = totals.get(key, 0.0) + value\n",
    "\n",
    "    return {key: total / count for key, total in totals.items()}\n"
   ],
   "id": "92d68da2c7335732",
   "outputs": [],
   "execution_count": 152
  },
  {
   "metadata": {
    "ExecuteTime": {
     "end_time": "2025-05-09T10:59:21.339513Z",
     "start_time": "2025-05-09T10:59:21.337023Z"
    }
   },
   "cell_type": "code",
   "source": "[evaluation_8_100, evaluation_8_50, evaluation_16_32, evaluation_16_50]",
   "id": "3366924549ade56f",
   "outputs": [
    {
     "data": {
      "text/plain": [
       "[{'avg_precision': 0.997, 'avg_query_time_ms': 4.1156005859375},\n",
       " {'avg_precision': 0.99, 'avg_query_time_ms': 3.6455631256103516},\n",
       " {'avg_precision': 0.993, 'avg_query_time_ms': 3.522627353668213},\n",
       " {'avg_precision': 0.996, 'avg_query_time_ms': 3.9110779762268066}]"
      ]
     },
     "execution_count": 190,
     "metadata": {},
     "output_type": "execute_result"
    }
   ],
   "execution_count": 190
  },
  {
   "metadata": {
    "ExecuteTime": {
     "end_time": "2025-05-09T10:40:30.248519Z",
     "start_time": "2025-05-09T10:40:30.245358Z"
    }
   },
   "cell_type": "code",
   "source": "[compute_avg_metrics(item) for item in [evaluation_8_100, evaluation_8_50, evaluation_16_32, evaluation_16_50]]",
   "id": "57bd98b66cb5abe1",
   "outputs": [
    {
     "data": {
      "text/plain": [
       "[{'avg_precision': 0.935, 'avg_query_time_ms': 3.2199811935424805},\n",
       " {'avg_precision': 0.925, 'avg_query_time_ms': 3.1613779067993164},\n",
       " {'avg_precision': 0.948, 'avg_query_time_ms': 3.6258912086486816},\n",
       " {'avg_precision': 0.966, 'avg_query_time_ms': 3.345036506652832}]"
      ]
     },
     "execution_count": 172,
     "metadata": {},
     "output_type": "execute_result"
    }
   ],
   "execution_count": 172
  },
  {
   "metadata": {},
   "cell_type": "code",
   "outputs": [],
   "execution_count": 86,
   "source": "import pandas as pd",
   "id": "e3481b7a684e6653"
  },
  {
   "metadata": {},
   "cell_type": "code",
   "outputs": [
    {
     "data": {
      "text/plain": [
       "   hnsw_ef  avg_precision  avg_query_time_ms  m  ef_construct\n",
       "0       10          0.933           4.029753  8           100\n",
       "1       20          0.969           3.520420  8           100\n",
       "2       50          0.990           4.272552  8           100\n",
       "3      100          0.996           4.632151  8           100\n",
       "4      200          0.998           5.858958  8           100"
      ],
      "text/html": [
       "<div>\n",
       "<style scoped>\n",
       "    .dataframe tbody tr th:only-of-type {\n",
       "        vertical-align: middle;\n",
       "    }\n",
       "\n",
       "    .dataframe tbody tr th {\n",
       "        vertical-align: top;\n",
       "    }\n",
       "\n",
       "    .dataframe thead th {\n",
       "        text-align: right;\n",
       "    }\n",
       "</style>\n",
       "<table border=\"1\" class=\"dataframe\">\n",
       "  <thead>\n",
       "    <tr style=\"text-align: right;\">\n",
       "      <th></th>\n",
       "      <th>hnsw_ef</th>\n",
       "      <th>avg_precision</th>\n",
       "      <th>avg_query_time_ms</th>\n",
       "      <th>m</th>\n",
       "      <th>ef_construct</th>\n",
       "    </tr>\n",
       "  </thead>\n",
       "  <tbody>\n",
       "    <tr>\n",
       "      <th>0</th>\n",
       "      <td>10</td>\n",
       "      <td>0.933</td>\n",
       "      <td>4.029753</td>\n",
       "      <td>8</td>\n",
       "      <td>100</td>\n",
       "    </tr>\n",
       "    <tr>\n",
       "      <th>1</th>\n",
       "      <td>20</td>\n",
       "      <td>0.969</td>\n",
       "      <td>3.520420</td>\n",
       "      <td>8</td>\n",
       "      <td>100</td>\n",
       "    </tr>\n",
       "    <tr>\n",
       "      <th>2</th>\n",
       "      <td>50</td>\n",
       "      <td>0.990</td>\n",
       "      <td>4.272552</td>\n",
       "      <td>8</td>\n",
       "      <td>100</td>\n",
       "    </tr>\n",
       "    <tr>\n",
       "      <th>3</th>\n",
       "      <td>100</td>\n",
       "      <td>0.996</td>\n",
       "      <td>4.632151</td>\n",
       "      <td>8</td>\n",
       "      <td>100</td>\n",
       "    </tr>\n",
       "    <tr>\n",
       "      <th>4</th>\n",
       "      <td>200</td>\n",
       "      <td>0.998</td>\n",
       "      <td>5.858958</td>\n",
       "      <td>8</td>\n",
       "      <td>100</td>\n",
       "    </tr>\n",
       "  </tbody>\n",
       "</table>\n",
       "</div>"
      ]
     },
     "execution_count": 87,
     "metadata": {},
     "output_type": "execute_result"
    }
   ],
   "execution_count": 87,
   "source": [
    "# Convert results to DataFrame\n",
    "df = pd.DataFrame([{**item, 'm': 8, 'ef_construct': 100} for item in evaluation])\n",
    "# Round floating point numbers for better readability\n",
    "df['avg_precision'] = df['avg_precision'].round(6)\n",
    "df['avg_query_time_ms'] = df['avg_query_time_ms'].round(6)\n",
    "df"
   ],
   "id": "88f0668dc79094c5"
  },
  {
   "metadata": {
    "ExecuteTime": {
     "end_time": "2025-05-09T14:11:18.072953Z",
     "start_time": "2025-05-09T14:11:18.071045Z"
    }
   },
   "cell_type": "code",
   "source": [
    "search_params = models.SearchParams(\n",
    "    quantization=models.QuantizationSearchParams(\n",
    "        rescore=True,\n",
    "        oversampling=2.0,\n",
    "    )\n",
    ")"
   ],
   "id": "b615601ba52ddbee",
   "outputs": [],
   "execution_count": 191
  },
  {
   "metadata": {},
   "cell_type": "code",
   "outputs": [],
   "execution_count": null,
   "source": "",
   "id": "43e0fb34109c0f92"
  },
  {
   "metadata": {
    "ExecuteTime": {
     "end_time": "2025-05-11T14:02:37.202578Z",
     "start_time": "2025-05-11T14:02:37.200295Z"
    }
   },
   "cell_type": "code",
   "source": "COLLECTION_NAME = 'arxiv_papers'",
   "id": "6801a52f0f118503",
   "outputs": [],
   "execution_count": 202
  },
  {
   "metadata": {
    "ExecuteTime": {
     "end_time": "2025-05-11T14:02:36.079671Z",
     "start_time": "2025-05-11T14:02:36.076903Z"
    }
   },
   "cell_type": "code",
   "source": [
    "def get_knn_points_ignoring_quantization(embedding: List):\n",
    "    start_time_knn = time.time()\n",
    "    knn_result = client.query_points(\n",
    "        collection_name=COLLECTION_NAME,\n",
    "        query=embedding,\n",
    "        limit=k,\n",
    "        search_params=models.SearchParams(\n",
    "            quantization=models.QuantizationSearchParams(ignore=True)  # ignore is False by default\n",
    "        ),\n",
    "    ).points\n",
    "    knn_time = time.time() - start_time_knn\n",
    "    ids = [res.payload['id'] for res in knn_result]\n",
    "    return ids, knn_time"
   ],
   "id": "5acd0fd75cd84b93",
   "outputs": [],
   "execution_count": 201
  },
  {
   "metadata": {
    "ExecuteTime": {
     "end_time": "2025-05-11T14:05:36.868746Z",
     "start_time": "2025-05-11T14:05:36.866533Z"
    }
   },
   "cell_type": "code",
   "source": [
    "def get_ann_points_quantized(embedding: List):\n",
    "    start_time_ann = time.time()\n",
    "    ann_result = client.query_points(\n",
    "        collection_name=COLLECTION_NAME,\n",
    "        query=embedding,\n",
    "        limit=k,\n",
    "        search_params = models.SearchParams(\n",
    "            quantization=models.QuantizationSearchParams(\n",
    "            rescore=False,\n",
    "            oversampling=2.0,\n",
    "            )\n",
    "        )\n",
    "    ).points\n",
    "    ann_time = time.time() - start_time_ann\n",
    "    ids = [res.payload['id'] for res in ann_result]\n",
    "    return ids, ann_time"
   ],
   "id": "76f922e43b21bcbe",
   "outputs": [],
   "execution_count": 206
  },
  {
   "metadata": {
    "ExecuteTime": {
     "end_time": "2025-05-11T14:02:46.852683Z",
     "start_time": "2025-05-11T14:02:46.849414Z"
    }
   },
   "cell_type": "code",
   "source": [
    "def evaluate_ann_quantized():\n",
    "    ann_results = [get_ann_points_quantized(vector) for _, vector in embeddings.items()]\n",
    "    knn_results = [get_knn_points_ignoring_quantization(vector) for _, vector in embeddings.items()]\n",
    "\n",
    "    results = [(precision_k(set(ann_id_list), set(knn_id_list)), ann_execution_time)\n",
    "               for (ann_id_list, ann_execution_time), (knn_id_list, knn_execution_time)\n",
    "               in zip(ann_results, knn_results)]\n",
    "\n",
    "    precisions, exec_time = zip(*results)\n",
    "    avg_precision = sum(precisions) / len(precisions)\n",
    "    avg_query_time_ms = sum(exec_time) / len(exec_time) * 1000\n",
    "\n",
    "    res = {\"avg_precision\": avg_precision,\n",
    "           \"avg_query_time_ms\": avg_query_time_ms\n",
    "           }\n",
    "\n",
    "    return res"
   ],
   "id": "6d0041dd53513e2",
   "outputs": [],
   "execution_count": 203
  },
  {
   "metadata": {
    "ExecuteTime": {
     "end_time": "2025-05-11T14:02:51.915093Z",
     "start_time": "2025-05-11T14:02:50.041706Z"
    }
   },
   "cell_type": "code",
   "source": "evaluate_ann_quantized()",
   "id": "870b22dba79e1b21",
   "outputs": [
    {
     "data": {
      "text/plain": [
       "{'avg_precision': 1.0, 'avg_query_time_ms': 13.554525375366211}"
      ]
     },
     "execution_count": 204,
     "metadata": {},
     "output_type": "execute_result"
    }
   ],
   "execution_count": 204
  },
  {
   "metadata": {
    "ExecuteTime": {
     "end_time": "2025-05-11T14:04:27.482715Z",
     "start_time": "2025-05-11T14:04:24.323113Z"
    }
   },
   "cell_type": "code",
   "source": "evaluate_ann()",
   "id": "6ffffa4e0d1939af",
   "outputs": [
    {
     "data": {
      "text/plain": [
       "{'avg_precision': 1.0, 'avg_query_time_ms': 3.635427951812744}"
      ]
     },
     "execution_count": 205,
     "metadata": {},
     "output_type": "execute_result"
    }
   ],
   "execution_count": 205
  },
  {
   "metadata": {
    "ExecuteTime": {
     "end_time": "2025-05-11T14:05:41.151982Z",
     "start_time": "2025-05-11T14:05:40.125170Z"
    }
   },
   "cell_type": "code",
   "source": "evaluate_ann_quantized()\n",
   "id": "b0a44ea9400232a1",
   "outputs": [
    {
     "data": {
      "text/plain": [
       "{'avg_precision': 0.835, 'avg_query_time_ms': 5.193431377410889}"
      ]
     },
     "execution_count": 207,
     "metadata": {},
     "output_type": "execute_result"
    }
   ],
   "execution_count": 207
  }
 ],
 "metadata": {
  "kernelspec": {
   "display_name": "Python 3",
   "language": "python",
   "name": "python3"
  },
  "language_info": {
   "codemirror_mode": {
    "name": "ipython",
    "version": 2
   },
   "file_extension": ".py",
   "mimetype": "text/x-python",
   "name": "python",
   "nbconvert_exporter": "python",
   "pygments_lexer": "ipython2",
   "version": "2.7.6"
  }
 },
 "nbformat": 4,
 "nbformat_minor": 5
}
